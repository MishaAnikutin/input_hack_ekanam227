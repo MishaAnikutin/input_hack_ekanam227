{
 "cells": [
  {
   "cell_type": "code",
   "execution_count": 1,
   "id": "dca08b57",
   "metadata": {},
   "outputs": [],
   "source": [
    "import pandas as pd\n",
    "from function import *\n",
    "from config import client_params,qdrant_client\n",
    "from db import *\n",
    "import warnings\n",
    "warnings.filterwarnings(\"ignore\") \n",
    "from sentence_transformers import SentenceTransformer\n",
    "from news_processor import *"
   ]
  },
  {
   "cell_type": "code",
   "execution_count": 2,
   "id": "8bca2754",
   "metadata": {},
   "outputs": [],
   "source": [
    "model = SentenceTransformer(\"ai-forever/sbert_large_nlu_ru\")"
   ]
  },
  {
   "cell_type": "code",
   "execution_count": 3,
   "id": "8c40ec0b",
   "metadata": {},
   "outputs": [],
   "source": [
    "df = pd.read_csv('data (2).csv')"
   ]
  },
  {
   "cell_type": "markdown",
   "id": "3b9bca8c",
   "metadata": {},
   "source": [
    "df будет содержать text, title, url, views, date, source\n",
    "\n",
    "должен прогружать"
   ]
  },
  {
   "cell_type": "code",
   "execution_count": 4,
   "id": "77e800b2",
   "metadata": {},
   "outputs": [],
   "source": [
    "db = DatabaseManager(qdrant_client,model)"
   ]
  },
  {
   "cell_type": "code",
   "execution_count": 5,
   "id": "3a6f32c4",
   "metadata": {},
   "outputs": [
    {
     "data": {
      "text/plain": [
       "text      0\n",
       "title     0\n",
       "URL       0\n",
       "date      0\n",
       "source    0\n",
       "dtype: int64"
      ]
     },
     "execution_count": 5,
     "metadata": {},
     "output_type": "execute_result"
    }
   ],
   "source": [
    "df.isna().sum()"
   ]
  },
  {
   "cell_type": "code",
   "execution_count": 6,
   "id": "e9bd2d2b",
   "metadata": {},
   "outputs": [],
   "source": [
    "process = NewsPreprocessing(client_params,db)"
   ]
  },
  {
   "cell_type": "code",
   "execution_count": 7,
   "id": "8479ee50",
   "metadata": {},
   "outputs": [
    {
     "name": "stderr",
     "output_type": "stream",
     "text": [
      "Processing texts: 100%|██████████| 10/10 [00:08<00:00,  1.22it/s]\n"
     ]
    },
    {
     "name": "stdout",
     "output_type": "stream",
     "text": [
      "Индекс для probability создан\n",
      "Индекс для probability создан\n",
      "Индекс для probability создан\n",
      "Индекс для probability создан\n",
      "Индекс для probability создан\n",
      "Индекс для probability создан\n",
      "Индекс для probability создан\n",
      "Индекс для probability создан\n",
      "Индекс для probability создан\n",
      "Индекс для probability создан\n"
     ]
    },
    {
     "name": "stderr",
     "output_type": "stream",
     "text": [
      " 10%|█         | 1/10 [00:47<07:04, 47.18s/it]"
     ]
    },
    {
     "name": "stdout",
     "output_type": "stream",
     "text": [
      "Успешно загружено 10 из 10 документов\n"
     ]
    },
    {
     "name": "stderr",
     "output_type": "stream",
     "text": [
      "Processing texts: 100%|██████████| 10/10 [00:24<00:00,  2.44s/it]\n"
     ]
    },
    {
     "name": "stdout",
     "output_type": "stream",
     "text": [
      "Индекс для probability создан\n",
      "Индекс для probability создан\n",
      "Индекс для probability создан\n",
      "Индекс для probability создан\n",
      "Индекс для probability создан\n",
      "Индекс для probability создан\n",
      "Индекс для probability создан\n",
      "Индекс для probability создан\n",
      "Индекс для probability создан\n",
      "Индекс для probability создан\n"
     ]
    },
    {
     "name": "stderr",
     "output_type": "stream",
     "text": [
      " 20%|██        | 2/10 [02:13<09:21, 70.19s/it]"
     ]
    },
    {
     "name": "stdout",
     "output_type": "stream",
     "text": [
      "Успешно загружено 10 из 10 документов\n",
      "Спорная тема\n"
     ]
    },
    {
     "name": "stderr",
     "output_type": "stream",
     "text": [
      "Processing texts: 100%|██████████| 10/10 [00:06<00:00,  1.43it/s]\n"
     ]
    },
    {
     "name": "stdout",
     "output_type": "stream",
     "text": [
      "Индекс для probability создан\n",
      "Индекс для probability создан\n",
      "Индекс для probability создан\n",
      "Индекс для probability создан\n",
      "Индекс для probability создан\n",
      "Индекс для probability создан\n",
      "Индекс для probability создан\n",
      "Индекс для probability создан\n",
      "Индекс для probability создан\n",
      "Индекс для probability создан\n"
     ]
    },
    {
     "name": "stderr",
     "output_type": "stream",
     "text": [
      " 30%|███       | 3/10 [03:05<07:11, 61.68s/it]"
     ]
    },
    {
     "name": "stdout",
     "output_type": "stream",
     "text": [
      "Успешно загружено 10 из 10 документов\n"
     ]
    },
    {
     "name": "stderr",
     "output_type": "stream",
     "text": [
      "Processing texts: 100%|██████████| 10/10 [00:06<00:00,  1.44it/s]\n"
     ]
    },
    {
     "name": "stdout",
     "output_type": "stream",
     "text": [
      "Индекс для probability создан\n",
      "Индекс для probability создан\n",
      "Индекс для probability создан\n",
      "Индекс для probability создан\n",
      "Индекс для probability создан\n",
      "Индекс для probability создан\n",
      "Индекс для probability создан\n",
      "Индекс для probability создан\n",
      "Индекс для probability создан\n"
     ]
    },
    {
     "name": "stderr",
     "output_type": "stream",
     "text": [
      " 40%|████      | 4/10 [03:53<05:39, 56.59s/it]"
     ]
    },
    {
     "name": "stdout",
     "output_type": "stream",
     "text": [
      "Успешно загружено 9 из 10 документов\n"
     ]
    },
    {
     "name": "stderr",
     "output_type": "stream",
     "text": [
      "Processing texts: 100%|██████████| 10/10 [00:06<00:00,  1.56it/s]\n"
     ]
    },
    {
     "name": "stdout",
     "output_type": "stream",
     "text": [
      "Индекс для probability создан\n",
      "Индекс для probability создан\n",
      "Индекс для probability создан\n",
      "Индекс для probability создан\n",
      "Индекс для probability создан\n",
      "Индекс для probability создан\n",
      "Индекс для probability создан\n",
      "Индекс для probability создан\n"
     ]
    },
    {
     "name": "stderr",
     "output_type": "stream",
     "text": [
      " 50%|█████     | 5/10 [04:34<04:14, 50.84s/it]"
     ]
    },
    {
     "name": "stdout",
     "output_type": "stream",
     "text": [
      "Успешно загружено 8 из 10 документов\n"
     ]
    },
    {
     "name": "stderr",
     "output_type": "stream",
     "text": [
      "Processing texts: 100%|██████████| 10/10 [00:07<00:00,  1.25it/s]\n"
     ]
    },
    {
     "name": "stdout",
     "output_type": "stream",
     "text": [
      "Индекс для probability создан\n",
      "Индекс для probability создан\n",
      "Индекс для probability создан\n",
      "Индекс для probability создан\n",
      "Индекс для probability создан\n",
      "Индекс для probability создан\n",
      "Индекс для probability создан\n",
      "Индекс для probability создан\n",
      "Индекс для probability создан\n"
     ]
    },
    {
     "name": "stderr",
     "output_type": "stream",
     "text": [
      " 60%|██████    | 6/10 [05:16<03:10, 47.70s/it]"
     ]
    },
    {
     "name": "stdout",
     "output_type": "stream",
     "text": [
      "Успешно загружено 9 из 10 документов\n"
     ]
    },
    {
     "name": "stderr",
     "output_type": "stream",
     "text": [
      "Processing texts: 100%|██████████| 10/10 [00:27<00:00,  2.78s/it]\n"
     ]
    },
    {
     "name": "stdout",
     "output_type": "stream",
     "text": [
      "Индекс для probability создан\n",
      "Индекс для probability создан\n",
      "Индекс для probability создан\n",
      "Индекс для probability создан\n",
      "Индекс для probability создан\n",
      "Индекс для probability создан\n"
     ]
    },
    {
     "name": "stderr",
     "output_type": "stream",
     "text": [
      " 70%|███████   | 7/10 [06:17<02:36, 52.21s/it]"
     ]
    },
    {
     "name": "stdout",
     "output_type": "stream",
     "text": [
      "Успешно загружено 6 из 10 документов\n"
     ]
    },
    {
     "name": "stderr",
     "output_type": "stream",
     "text": [
      "Processing texts: 100%|██████████| 10/10 [00:06<00:00,  1.44it/s]\n"
     ]
    },
    {
     "name": "stdout",
     "output_type": "stream",
     "text": [
      "Индекс для probability создан\n",
      "Индекс для probability создан\n",
      "Индекс для probability создан\n",
      "Индекс для probability создан\n",
      "Индекс для probability создан\n",
      "Индекс для probability создан\n",
      "Индекс для probability создан\n"
     ]
    },
    {
     "name": "stderr",
     "output_type": "stream",
     "text": [
      " 80%|████████  | 8/10 [06:55<01:35, 47.62s/it]"
     ]
    },
    {
     "name": "stdout",
     "output_type": "stream",
     "text": [
      "Успешно загружено 7 из 10 документов\n"
     ]
    },
    {
     "name": "stderr",
     "output_type": "stream",
     "text": [
      "Processing texts: 100%|██████████| 10/10 [00:07<00:00,  1.38it/s]\n"
     ]
    },
    {
     "name": "stdout",
     "output_type": "stream",
     "text": [
      "Индекс для probability создан\n",
      "Индекс для probability создан\n",
      "Индекс для probability создан\n",
      "Индекс для probability создан\n",
      "Индекс для probability создан\n",
      "Индекс для probability создан\n",
      "Индекс для probability создан\n",
      "Индекс для probability создан\n",
      "Индекс для probability создан\n"
     ]
    },
    {
     "name": "stderr",
     "output_type": "stream",
     "text": [
      " 90%|█████████ | 9/10 [07:49<00:49, 49.58s/it]"
     ]
    },
    {
     "name": "stdout",
     "output_type": "stream",
     "text": [
      "Успешно загружено 9 из 10 документов\n",
      "Спорная тема\n"
     ]
    },
    {
     "name": "stderr",
     "output_type": "stream",
     "text": [
      "Processing texts: 100%|██████████| 10/10 [00:08<00:00,  1.18it/s]\n"
     ]
    },
    {
     "name": "stdout",
     "output_type": "stream",
     "text": [
      "Индекс для probability создан\n",
      "Индекс для probability создан\n",
      "Индекс для probability создан\n",
      "Индекс для probability создан\n",
      "Индекс для probability создан\n",
      "Индекс для probability создан\n",
      "Индекс для probability создан\n"
     ]
    },
    {
     "name": "stderr",
     "output_type": "stream",
     "text": [
      "100%|██████████| 10/10 [08:32<00:00, 51.22s/it]"
     ]
    },
    {
     "name": "stdout",
     "output_type": "stream",
     "text": [
      "Успешно загружено 7 из 10 документов\n"
     ]
    },
    {
     "name": "stderr",
     "output_type": "stream",
     "text": [
      "\n"
     ]
    }
   ],
   "source": [
    "for i in tqdm(range(0,len(df),10)):\n",
    "    spec = df.iloc[i:i+10]\n",
    "    process.get_data(spec)\n",
    "    time.sleep(0.5)\n",
    "    text= process.get_summary()\n",
    "    out= process.get_sentiment()\n",
    "    out_ = process.process_tickers_whole_df()\n",
    "    process.load_data(0.9)\n",
    "    "
   ]
  },
  {
   "cell_type": "code",
   "execution_count": 28,
   "id": "b466957c",
   "metadata": {},
   "outputs": [
    {
     "data": {
      "text/plain": [
       "text      ДОНЕЦК, 7 июня. /ТАСС/. Украинские нацбаты в н...\n",
       "title     Пленный из ВСУ рассказал, где нацбаты хоронили...\n",
       "URL                 https://tass.ru/proisshestviya/24166471\n",
       "date                                    2025-06-07 12:21:23\n",
       "source                                                 TASS\n",
       "Name: 29, dtype: object"
      ]
     },
     "execution_count": 28,
     "metadata": {},
     "output_type": "execute_result"
    }
   ],
   "source": [
    "df.iloc[29]"
   ]
  },
  {
   "cell_type": "code",
   "execution_count": 8,
   "id": "5d8b4e69",
   "metadata": {},
   "outputs": [
    {
     "name": "stdout",
     "output_type": "stream",
     "text": [
      "\n",
      "Probability: -0.9\n",
      "Text: Александр Радулов, обладатель Кубка Гагарина и самый ценный игрок плей-офф, рассматривает все предложения по поводу продолжения карьеры и не торопится с выбором клуба. Агент хоккеиста заявил, что Радулов не принял окончательного решения и оценивает различные варианты. В текущем сезоне он набрал 16 очков в 21 матче плей-офф за \"Локомотив\", который впервые выиграл Кубок Гагарина.\n",
      "ID: 6\n",
      "\n",
      "Probability: -0.9\n",
      "Text: Следователи возбудили в Астраханской области уголовное дело по факту ДТП, в результате которого погибли трое сотрудников полиции. Авария произошла 6 июня на автодороге Р-215, когда водитель автомобиля \"Лада\" не справился с управлением, съехал на обочину и столкнулся с бензовозом. В результате ДТП погибли три полицейских, находившиеся в легковом автомобиле. Устанавливаются обстоятельства происшествия.\n",
      "ID: 16\n",
      "\n",
      "Probability: -0.9\n",
      "Text: Криштиану Роналду практически исключил свое участие в предстоящем клубном чемпионате мира в США, несмотря на полученные приглашения. В октябре 2023 года он отметил необходимость учитывать долгосрочные перспективы и сообщил, что, скорее всего, не примет участие в турнире. В настоящее время ему 40 лет, он играет за клуб \"Аль-Наср\" в Саудовской Аравии по контракту до конца сезона-2024/25. Контекстом также является финальный матч сборной Португалии в Лиге наций против Испании.\n",
      "ID: 61\n",
      "\n",
      "Probability: -0.8\n",
      "Text: Верховный суд Праги отклонил апелляцию России по вопросу юрисдикции чешских судов рассматривать спор о плате за аренду недвижимости в Чехии, вернув дело на повторное рассмотрение. Спор возник после отмены в 2020 году решений, разрешавших России безвозмездное пользование 40 объектами недвижимости, за что Чехия требует более 60 млн крон арендной платы. В ноябре 2023 года Чехия включила российское предприятие \"Госзагрансобственность\" в санкционный список, заморозив его имущество в стране.\n",
      "ID: 0\n",
      "\n",
      "Probability: -0.8\n",
      "Text: Палестинское движение ХАМАС пригрозило убить израильского заложника, Матана Цангаукера, в случае окружения его содержания в секторе Газа израильскими военными. Представитель группировки заявил, что освобождение заложника невозможно, и ответственность за его смерть ляжет на Израиль. 7 июня ЦАХАЛ обнаружил в Газе останки заложника, похищенного 7 октября 2023 года, а также вывез еще двоих пленников.\n",
      "ID: 12\n"
     ]
    }
   ],
   "source": [
    "from qdrant_client import models\n",
    "\n",
    "# 1. Сначала создаем индекс для поля probability (если его нет)\n",
    "try:\n",
    "    top_k_points = qdrant_client.scroll(\n",
    "        collection_name=\"input_hak\",\n",
    "        scroll_filter=models.Filter(\n",
    "            must=[models.FieldCondition(\n",
    "                key=\"probability\",\n",
    "                range=models.Range(gte=-1))\n",
    "            ]\n",
    "        ),\n",
    "        limit=5,\n",
    "        order_by=models.OrderBy(\n",
    "            key=\"probability\",\n",
    "            direction=models.Direction.ASC\n",
    "        ),\n",
    "        with_payload=True,\n",
    "    )\n",
    "    \n",
    "    # Выводим результаты\n",
    "    for point in top_k_points[0]:\n",
    "        print(f\"\\nProbability: {point.payload.get('probability', 'N/A')}\")\n",
    "        print(f\"Text: {point.payload.get('summary_text', 'No text')}\")\n",
    "        print(f\"ID: {point.id}\")\n",
    "\n",
    "except Exception as e:\n",
    "    print(f\"Ошибка при выполнении запроса: {str(e)}\")\n",
    "    print(\"\\nПопробуем альтернативный метод без индекса...\")\n",
    "    \n",
    "    # 3. Альтернативный метод, если индекс создать не удалось\n",
    "    all_points = qdrant_client.scroll(\n",
    "        collection_name=\"input_hak\",\n",
    "        limit=1000,\n",
    "        with_payload=True,\n",
    "    )[0]\n",
    "    \n",
    "    top_5 = sorted(\n",
    "        all_points,\n",
    "        key=lambda x: x.payload.get(\"probability\", 0),\n",
    "        reverse=True\n",
    "    )[:5]\n",
    "    \n",
    "    for point in top_5:\n",
    "        print(f\"\\nProbability: {point.payload.get('probability', 'N/A')}\")\n",
    "        print(f\"Text: {point.payload.get('summary_text', 'No text')}\")"
   ]
  },
  {
   "cell_type": "code",
   "execution_count": 9,
   "id": "f3fd1c61",
   "metadata": {},
   "outputs": [
    {
     "ename": "UnexpectedResponse",
     "evalue": "Unexpected Response: 400 (Bad Request)\nRaw response content:\nb'{\"status\":{\"error\":\"Bad request: Index required but not found for \\\\\"ticker\\\\\" of one of the following types: [keyword]. Help: Create an index for this key or use a different filter.\"},\"time\":5.55e-6}'",
     "output_type": "error",
     "traceback": [
      "\u001b[31m---------------------------------------------------------------------------\u001b[39m",
      "\u001b[31mUnexpectedResponse\u001b[39m                        Traceback (most recent call last)",
      "\u001b[36mCell\u001b[39m\u001b[36m \u001b[39m\u001b[32mIn[9]\u001b[39m\u001b[32m, line 28\u001b[39m\n\u001b[32m     25\u001b[39m     \u001b[38;5;28;01mreturn\u001b[39;00m response[\u001b[32m0\u001b[39m]  \u001b[38;5;66;03m# Возвращаем только точки\u001b[39;00m\n\u001b[32m     27\u001b[39m \u001b[38;5;66;03m# Пример использования:\u001b[39;00m\n\u001b[32m---> \u001b[39m\u001b[32m28\u001b[39m aapl_points = \u001b[43mget_points_by_ticker\u001b[49m\u001b[43m(\u001b[49m\u001b[33;43m\"\u001b[39;49m\u001b[33;43minput_hak\u001b[39;49m\u001b[33;43m\"\u001b[39;49m\u001b[43m,\u001b[49m\u001b[43m \u001b[49m\u001b[33;43m\"\u001b[39;49m\u001b[33;43mAAPL\u001b[39;49m\u001b[33;43m\"\u001b[39;49m\u001b[43m,\u001b[49m\u001b[43m \u001b[49m\u001b[32;43m5\u001b[39;49m\u001b[43m)\u001b[49m\n\u001b[32m     29\u001b[39m \u001b[38;5;28;01mfor\u001b[39;00m point \u001b[38;5;129;01min\u001b[39;00m aapl_points:\n\u001b[32m     30\u001b[39m     \u001b[38;5;28mprint\u001b[39m(\u001b[33mf\u001b[39m\u001b[33m\"\u001b[39m\u001b[33mID: \u001b[39m\u001b[38;5;132;01m{\u001b[39;00mpoint.id\u001b[38;5;132;01m}\u001b[39;00m\u001b[33m, Текст: \u001b[39m\u001b[38;5;132;01m{\u001b[39;00mpoint.payload.get(\u001b[33m'\u001b[39m\u001b[33msummary_text\u001b[39m\u001b[33m'\u001b[39m)\u001b[38;5;132;01m}\u001b[39;00m\u001b[33m\"\u001b[39m)\n",
      "\u001b[36mCell\u001b[39m\u001b[36m \u001b[39m\u001b[32mIn[9]\u001b[39m\u001b[32m, line 10\u001b[39m, in \u001b[36mget_points_by_ticker\u001b[39m\u001b[34m(collection_name, target_ticker, limit)\u001b[39m\n\u001b[32m      1\u001b[39m \u001b[38;5;28;01mdef\u001b[39;00m\u001b[38;5;250m \u001b[39m\u001b[34mget_points_by_ticker\u001b[39m(collection_name: \u001b[38;5;28mstr\u001b[39m, target_ticker: \u001b[38;5;28mstr\u001b[39m, limit: \u001b[38;5;28mint\u001b[39m = \u001b[32m10\u001b[39m):\n\u001b[32m      2\u001b[39m \u001b[38;5;250m    \u001b[39m\u001b[33;03m\"\"\"\u001b[39;00m\n\u001b[32m      3\u001b[39m \u001b[33;03m    Возвращает все записи, содержащие указанный тикер\u001b[39;00m\n\u001b[32m      4\u001b[39m \n\u001b[32m   (...)\u001b[39m\u001b[32m      8\u001b[39m \u001b[33;03m    :return: Список найденных точек\u001b[39;00m\n\u001b[32m      9\u001b[39m \u001b[33;03m    \"\"\"\u001b[39;00m\n\u001b[32m---> \u001b[39m\u001b[32m10\u001b[39m     response = \u001b[43mqdrant_client\u001b[49m\u001b[43m.\u001b[49m\u001b[43mscroll\u001b[49m\u001b[43m(\u001b[49m\n\u001b[32m     11\u001b[39m \u001b[43m        \u001b[49m\u001b[43mcollection_name\u001b[49m\u001b[43m=\u001b[49m\u001b[43mcollection_name\u001b[49m\u001b[43m,\u001b[49m\n\u001b[32m     12\u001b[39m \u001b[43m        \u001b[49m\u001b[43mscroll_filter\u001b[49m\u001b[43m=\u001b[49m\u001b[43mmodels\u001b[49m\u001b[43m.\u001b[49m\u001b[43mFilter\u001b[49m\u001b[43m(\u001b[49m\n\u001b[32m     13\u001b[39m \u001b[43m            \u001b[49m\u001b[43mmust\u001b[49m\u001b[43m=\u001b[49m\u001b[43m[\u001b[49m\n\u001b[32m     14\u001b[39m \u001b[43m                \u001b[49m\u001b[43mmodels\u001b[49m\u001b[43m.\u001b[49m\u001b[43mFieldCondition\u001b[49m\u001b[43m(\u001b[49m\n\u001b[32m     15\u001b[39m \u001b[43m                    \u001b[49m\u001b[43mkey\u001b[49m\u001b[43m=\u001b[49m\u001b[33;43m\"\u001b[39;49m\u001b[33;43mticker\u001b[39;49m\u001b[33;43m\"\u001b[39;49m\u001b[43m,\u001b[49m\n\u001b[32m     16\u001b[39m \u001b[43m                    \u001b[49m\u001b[43mmatch\u001b[49m\u001b[43m=\u001b[49m\u001b[43mmodels\u001b[49m\u001b[43m.\u001b[49m\u001b[43mMatchValue\u001b[49m\u001b[43m(\u001b[49m\u001b[43mvalue\u001b[49m\u001b[43m=\u001b[49m\u001b[43mtarget_ticker\u001b[49m\u001b[43m)\u001b[49m\n\u001b[32m     17\u001b[39m \u001b[43m                \u001b[49m\u001b[43m)\u001b[49m\n\u001b[32m     18\u001b[39m \u001b[43m            \u001b[49m\u001b[43m]\u001b[49m\n\u001b[32m     19\u001b[39m \u001b[43m        \u001b[49m\u001b[43m)\u001b[49m\u001b[43m,\u001b[49m\n\u001b[32m     20\u001b[39m \u001b[43m        \u001b[49m\u001b[43mlimit\u001b[49m\u001b[43m=\u001b[49m\u001b[43mlimit\u001b[49m\u001b[43m,\u001b[49m\n\u001b[32m     21\u001b[39m \u001b[43m        \u001b[49m\u001b[43mwith_payload\u001b[49m\u001b[43m=\u001b[49m\u001b[38;5;28;43;01mTrue\u001b[39;49;00m\u001b[43m,\u001b[49m\n\u001b[32m     22\u001b[39m \u001b[43m        \u001b[49m\u001b[43mwith_vectors\u001b[49m\u001b[43m=\u001b[49m\u001b[38;5;28;43;01mFalse\u001b[39;49;00m\n\u001b[32m     23\u001b[39m \u001b[43m    \u001b[49m\u001b[43m)\u001b[49m\n\u001b[32m     25\u001b[39m     \u001b[38;5;28;01mreturn\u001b[39;00m response[\u001b[32m0\u001b[39m]\n",
      "\u001b[36mFile \u001b[39m\u001b[32mc:\\Users\\Admin\\OneDrive\\Desktop\\hak\\.venv\\Lib\\site-packages\\qdrant_client\\qdrant_client.py:1459\u001b[39m, in \u001b[36mQdrantClient.scroll\u001b[39m\u001b[34m(self, collection_name, scroll_filter, limit, order_by, offset, with_payload, with_vectors, consistency, shard_key_selector, timeout, **kwargs)\u001b[39m\n\u001b[32m   1417\u001b[39m \u001b[38;5;250m\u001b[39m\u001b[33;03m\"\"\"Scroll over all (matching) points in the collection.\u001b[39;00m\n\u001b[32m   1418\u001b[39m \n\u001b[32m   1419\u001b[39m \u001b[33;03mThis method provides a way to iterate over all stored points with some optional filtering condition.\u001b[39;00m\n\u001b[32m   (...)\u001b[39m\u001b[32m   1455\u001b[39m \u001b[33;03m    If next page offset is `None` - there is no more points in the collection to scroll.\u001b[39;00m\n\u001b[32m   1456\u001b[39m \u001b[33;03m\"\"\"\u001b[39;00m\n\u001b[32m   1457\u001b[39m \u001b[38;5;28;01massert\u001b[39;00m \u001b[38;5;28mlen\u001b[39m(kwargs) == \u001b[32m0\u001b[39m, \u001b[33mf\u001b[39m\u001b[33m\"\u001b[39m\u001b[33mUnknown arguments: \u001b[39m\u001b[38;5;132;01m{\u001b[39;00m\u001b[38;5;28mlist\u001b[39m(kwargs.keys())\u001b[38;5;132;01m}\u001b[39;00m\u001b[33m\"\u001b[39m\n\u001b[32m-> \u001b[39m\u001b[32m1459\u001b[39m \u001b[38;5;28;01mreturn\u001b[39;00m \u001b[38;5;28;43mself\u001b[39;49m\u001b[43m.\u001b[49m\u001b[43m_client\u001b[49m\u001b[43m.\u001b[49m\u001b[43mscroll\u001b[49m\u001b[43m(\u001b[49m\n\u001b[32m   1460\u001b[39m \u001b[43m    \u001b[49m\u001b[43mcollection_name\u001b[49m\u001b[43m=\u001b[49m\u001b[43mcollection_name\u001b[49m\u001b[43m,\u001b[49m\n\u001b[32m   1461\u001b[39m \u001b[43m    \u001b[49m\u001b[43mscroll_filter\u001b[49m\u001b[43m=\u001b[49m\u001b[43mscroll_filter\u001b[49m\u001b[43m,\u001b[49m\n\u001b[32m   1462\u001b[39m \u001b[43m    \u001b[49m\u001b[43mlimit\u001b[49m\u001b[43m=\u001b[49m\u001b[43mlimit\u001b[49m\u001b[43m,\u001b[49m\n\u001b[32m   1463\u001b[39m \u001b[43m    \u001b[49m\u001b[43morder_by\u001b[49m\u001b[43m=\u001b[49m\u001b[43morder_by\u001b[49m\u001b[43m,\u001b[49m\n\u001b[32m   1464\u001b[39m \u001b[43m    \u001b[49m\u001b[43moffset\u001b[49m\u001b[43m=\u001b[49m\u001b[43moffset\u001b[49m\u001b[43m,\u001b[49m\n\u001b[32m   1465\u001b[39m \u001b[43m    \u001b[49m\u001b[43mwith_payload\u001b[49m\u001b[43m=\u001b[49m\u001b[43mwith_payload\u001b[49m\u001b[43m,\u001b[49m\n\u001b[32m   1466\u001b[39m \u001b[43m    \u001b[49m\u001b[43mwith_vectors\u001b[49m\u001b[43m=\u001b[49m\u001b[43mwith_vectors\u001b[49m\u001b[43m,\u001b[49m\n\u001b[32m   1467\u001b[39m \u001b[43m    \u001b[49m\u001b[43mconsistency\u001b[49m\u001b[43m=\u001b[49m\u001b[43mconsistency\u001b[49m\u001b[43m,\u001b[49m\n\u001b[32m   1468\u001b[39m \u001b[43m    \u001b[49m\u001b[43mshard_key_selector\u001b[49m\u001b[43m=\u001b[49m\u001b[43mshard_key_selector\u001b[49m\u001b[43m,\u001b[49m\n\u001b[32m   1469\u001b[39m \u001b[43m    \u001b[49m\u001b[43mtimeout\u001b[49m\u001b[43m=\u001b[49m\u001b[43mtimeout\u001b[49m\u001b[43m,\u001b[49m\n\u001b[32m   1470\u001b[39m \u001b[43m    \u001b[49m\u001b[43m*\u001b[49m\u001b[43m*\u001b[49m\u001b[43mkwargs\u001b[49m\u001b[43m,\u001b[49m\n\u001b[32m   1471\u001b[39m \u001b[43m\u001b[49m\u001b[43m)\u001b[49m\n",
      "\u001b[36mFile \u001b[39m\u001b[32mc:\\Users\\Admin\\OneDrive\\Desktop\\hak\\.venv\\Lib\\site-packages\\qdrant_client\\qdrant_remote.py:1719\u001b[39m, in \u001b[36mQdrantRemote.scroll\u001b[39m\u001b[34m(self, collection_name, scroll_filter, limit, order_by, offset, with_payload, with_vectors, consistency, shard_key_selector, timeout, **kwargs)\u001b[39m\n\u001b[32m   1715\u001b[39m \u001b[38;5;28;01mif\u001b[39;00m \u001b[38;5;28misinstance\u001b[39m(with_payload, grpc.WithPayloadSelector):\n\u001b[32m   1716\u001b[39m     with_payload = GrpcToRest.convert_with_payload_selector(with_payload)\n\u001b[32m   1718\u001b[39m scroll_result: Optional[models.ScrollResult] = (\n\u001b[32m-> \u001b[39m\u001b[32m1719\u001b[39m     \u001b[38;5;28;43mself\u001b[39;49m\u001b[43m.\u001b[49m\u001b[43mopenapi_client\u001b[49m\u001b[43m.\u001b[49m\u001b[43mpoints_api\u001b[49m\u001b[43m.\u001b[49m\u001b[43mscroll_points\u001b[49m\u001b[43m(\u001b[49m\n\u001b[32m   1720\u001b[39m \u001b[43m        \u001b[49m\u001b[43mcollection_name\u001b[49m\u001b[43m=\u001b[49m\u001b[43mcollection_name\u001b[49m\u001b[43m,\u001b[49m\n\u001b[32m   1721\u001b[39m \u001b[43m        \u001b[49m\u001b[43mconsistency\u001b[49m\u001b[43m=\u001b[49m\u001b[43mconsistency\u001b[49m\u001b[43m,\u001b[49m\n\u001b[32m   1722\u001b[39m \u001b[43m        \u001b[49m\u001b[43mscroll_request\u001b[49m\u001b[43m=\u001b[49m\u001b[43mmodels\u001b[49m\u001b[43m.\u001b[49m\u001b[43mScrollRequest\u001b[49m\u001b[43m(\u001b[49m\n\u001b[32m   1723\u001b[39m \u001b[43m            \u001b[49m\u001b[38;5;28;43mfilter\u001b[39;49m\u001b[43m=\u001b[49m\u001b[43mscroll_filter\u001b[49m\u001b[43m,\u001b[49m\n\u001b[32m   1724\u001b[39m \u001b[43m            \u001b[49m\u001b[43mlimit\u001b[49m\u001b[43m=\u001b[49m\u001b[43mlimit\u001b[49m\u001b[43m,\u001b[49m\n\u001b[32m   1725\u001b[39m \u001b[43m            \u001b[49m\u001b[43morder_by\u001b[49m\u001b[43m=\u001b[49m\u001b[43morder_by\u001b[49m\u001b[43m,\u001b[49m\n\u001b[32m   1726\u001b[39m \u001b[43m            \u001b[49m\u001b[43moffset\u001b[49m\u001b[43m=\u001b[49m\u001b[43moffset\u001b[49m\u001b[43m,\u001b[49m\n\u001b[32m   1727\u001b[39m \u001b[43m            \u001b[49m\u001b[43mwith_payload\u001b[49m\u001b[43m=\u001b[49m\u001b[43mwith_payload\u001b[49m\u001b[43m,\u001b[49m\n\u001b[32m   1728\u001b[39m \u001b[43m            \u001b[49m\u001b[43mwith_vector\u001b[49m\u001b[43m=\u001b[49m\u001b[43mwith_vectors\u001b[49m\u001b[43m,\u001b[49m\n\u001b[32m   1729\u001b[39m \u001b[43m            \u001b[49m\u001b[43mshard_key\u001b[49m\u001b[43m=\u001b[49m\u001b[43mshard_key_selector\u001b[49m\u001b[43m,\u001b[49m\n\u001b[32m   1730\u001b[39m \u001b[43m        \u001b[49m\u001b[43m)\u001b[49m\u001b[43m,\u001b[49m\n\u001b[32m   1731\u001b[39m \u001b[43m        \u001b[49m\u001b[43mtimeout\u001b[49m\u001b[43m=\u001b[49m\u001b[43mtimeout\u001b[49m\u001b[43m,\u001b[49m\n\u001b[32m   1732\u001b[39m \u001b[43m    \u001b[49m\u001b[43m)\u001b[49m.result\n\u001b[32m   1733\u001b[39m )\n\u001b[32m   1734\u001b[39m \u001b[38;5;28;01massert\u001b[39;00m scroll_result \u001b[38;5;129;01mis\u001b[39;00m \u001b[38;5;129;01mnot\u001b[39;00m \u001b[38;5;28;01mNone\u001b[39;00m, \u001b[33m\"\u001b[39m\u001b[33mScroll points API returned None result\u001b[39m\u001b[33m\"\u001b[39m\n\u001b[32m   1736\u001b[39m \u001b[38;5;28;01mreturn\u001b[39;00m scroll_result.points, scroll_result.next_page_offset\n",
      "\u001b[36mFile \u001b[39m\u001b[32mc:\\Users\\Admin\\OneDrive\\Desktop\\hak\\.venv\\Lib\\site-packages\\qdrant_client\\http\\api\\points_api.py:936\u001b[39m, in \u001b[36mSyncPointsApi.scroll_points\u001b[39m\u001b[34m(self, collection_name, consistency, timeout, scroll_request)\u001b[39m\n\u001b[32m    926\u001b[39m \u001b[38;5;28;01mdef\u001b[39;00m\u001b[38;5;250m \u001b[39m\u001b[34mscroll_points\u001b[39m(\n\u001b[32m    927\u001b[39m     \u001b[38;5;28mself\u001b[39m,\n\u001b[32m    928\u001b[39m     collection_name: \u001b[38;5;28mstr\u001b[39m,\n\u001b[32m   (...)\u001b[39m\u001b[32m    931\u001b[39m     scroll_request: m.ScrollRequest = \u001b[38;5;28;01mNone\u001b[39;00m,\n\u001b[32m    932\u001b[39m ) -> m.InlineResponse20016:\n\u001b[32m    933\u001b[39m \u001b[38;5;250m    \u001b[39m\u001b[33;03m\"\"\"\u001b[39;00m\n\u001b[32m    934\u001b[39m \u001b[33;03m    Scroll request - paginate over all points which matches given filtering condition\u001b[39;00m\n\u001b[32m    935\u001b[39m \u001b[33;03m    \"\"\"\u001b[39;00m\n\u001b[32m--> \u001b[39m\u001b[32m936\u001b[39m     \u001b[38;5;28;01mreturn\u001b[39;00m \u001b[38;5;28;43mself\u001b[39;49m\u001b[43m.\u001b[49m\u001b[43m_build_for_scroll_points\u001b[49m\u001b[43m(\u001b[49m\n\u001b[32m    937\u001b[39m \u001b[43m        \u001b[49m\u001b[43mcollection_name\u001b[49m\u001b[43m=\u001b[49m\u001b[43mcollection_name\u001b[49m\u001b[43m,\u001b[49m\n\u001b[32m    938\u001b[39m \u001b[43m        \u001b[49m\u001b[43mconsistency\u001b[49m\u001b[43m=\u001b[49m\u001b[43mconsistency\u001b[49m\u001b[43m,\u001b[49m\n\u001b[32m    939\u001b[39m \u001b[43m        \u001b[49m\u001b[43mtimeout\u001b[49m\u001b[43m=\u001b[49m\u001b[43mtimeout\u001b[49m\u001b[43m,\u001b[49m\n\u001b[32m    940\u001b[39m \u001b[43m        \u001b[49m\u001b[43mscroll_request\u001b[49m\u001b[43m=\u001b[49m\u001b[43mscroll_request\u001b[49m\u001b[43m,\u001b[49m\n\u001b[32m    941\u001b[39m \u001b[43m    \u001b[49m\u001b[43m)\u001b[49m\n",
      "\u001b[36mFile \u001b[39m\u001b[32mc:\\Users\\Admin\\OneDrive\\Desktop\\hak\\.venv\\Lib\\site-packages\\qdrant_client\\http\\api\\points_api.py:410\u001b[39m, in \u001b[36m_PointsApi._build_for_scroll_points\u001b[39m\u001b[34m(self, collection_name, consistency, timeout, scroll_request)\u001b[39m\n\u001b[32m    408\u001b[39m \u001b[38;5;28;01mif\u001b[39;00m \u001b[33m\"\u001b[39m\u001b[33mContent-Type\u001b[39m\u001b[33m\"\u001b[39m \u001b[38;5;129;01mnot\u001b[39;00m \u001b[38;5;129;01min\u001b[39;00m headers:\n\u001b[32m    409\u001b[39m     headers[\u001b[33m\"\u001b[39m\u001b[33mContent-Type\u001b[39m\u001b[33m\"\u001b[39m] = \u001b[33m\"\u001b[39m\u001b[33mapplication/json\u001b[39m\u001b[33m\"\u001b[39m\n\u001b[32m--> \u001b[39m\u001b[32m410\u001b[39m \u001b[38;5;28;01mreturn\u001b[39;00m \u001b[38;5;28;43mself\u001b[39;49m\u001b[43m.\u001b[49m\u001b[43mapi_client\u001b[49m\u001b[43m.\u001b[49m\u001b[43mrequest\u001b[49m\u001b[43m(\u001b[49m\n\u001b[32m    411\u001b[39m \u001b[43m    \u001b[49m\u001b[43mtype_\u001b[49m\u001b[43m=\u001b[49m\u001b[43mm\u001b[49m\u001b[43m.\u001b[49m\u001b[43mInlineResponse20016\u001b[49m\u001b[43m,\u001b[49m\n\u001b[32m    412\u001b[39m \u001b[43m    \u001b[49m\u001b[43mmethod\u001b[49m\u001b[43m=\u001b[49m\u001b[33;43m\"\u001b[39;49m\u001b[33;43mPOST\u001b[39;49m\u001b[33;43m\"\u001b[39;49m\u001b[43m,\u001b[49m\n\u001b[32m    413\u001b[39m \u001b[43m    \u001b[49m\u001b[43murl\u001b[49m\u001b[43m=\u001b[49m\u001b[33;43m\"\u001b[39;49m\u001b[33;43m/collections/\u001b[39;49m\u001b[38;5;132;43;01m{collection_name}\u001b[39;49;00m\u001b[33;43m/points/scroll\u001b[39;49m\u001b[33;43m\"\u001b[39;49m\u001b[43m,\u001b[49m\n\u001b[32m    414\u001b[39m \u001b[43m    \u001b[49m\u001b[43mheaders\u001b[49m\u001b[43m=\u001b[49m\u001b[43mheaders\u001b[49m\u001b[43m \u001b[49m\u001b[38;5;28;43;01mif\u001b[39;49;00m\u001b[43m \u001b[49m\u001b[43mheaders\u001b[49m\u001b[43m \u001b[49m\u001b[38;5;28;43;01melse\u001b[39;49;00m\u001b[43m \u001b[49m\u001b[38;5;28;43;01mNone\u001b[39;49;00m\u001b[43m,\u001b[49m\n\u001b[32m    415\u001b[39m \u001b[43m    \u001b[49m\u001b[43mpath_params\u001b[49m\u001b[43m=\u001b[49m\u001b[43mpath_params\u001b[49m\u001b[43m,\u001b[49m\n\u001b[32m    416\u001b[39m \u001b[43m    \u001b[49m\u001b[43mparams\u001b[49m\u001b[43m=\u001b[49m\u001b[43mquery_params\u001b[49m\u001b[43m,\u001b[49m\n\u001b[32m    417\u001b[39m \u001b[43m    \u001b[49m\u001b[43mcontent\u001b[49m\u001b[43m=\u001b[49m\u001b[43mbody\u001b[49m\u001b[43m,\u001b[49m\n\u001b[32m    418\u001b[39m \u001b[43m\u001b[49m\u001b[43m)\u001b[49m\n",
      "\u001b[36mFile \u001b[39m\u001b[32mc:\\Users\\Admin\\OneDrive\\Desktop\\hak\\.venv\\Lib\\site-packages\\qdrant_client\\http\\api_client.py:90\u001b[39m, in \u001b[36mApiClient.request\u001b[39m\u001b[34m(self, type_, method, url, path_params, **kwargs)\u001b[39m\n\u001b[32m     88\u001b[39m     kwargs[\u001b[33m\"\u001b[39m\u001b[33mtimeout\u001b[39m\u001b[33m\"\u001b[39m] = \u001b[38;5;28mint\u001b[39m(kwargs[\u001b[33m\"\u001b[39m\u001b[33mparams\u001b[39m\u001b[33m\"\u001b[39m][\u001b[33m\"\u001b[39m\u001b[33mtimeout\u001b[39m\u001b[33m\"\u001b[39m])\n\u001b[32m     89\u001b[39m request = \u001b[38;5;28mself\u001b[39m._client.build_request(method, url, **kwargs)\n\u001b[32m---> \u001b[39m\u001b[32m90\u001b[39m \u001b[38;5;28;01mreturn\u001b[39;00m \u001b[38;5;28;43mself\u001b[39;49m\u001b[43m.\u001b[49m\u001b[43msend\u001b[49m\u001b[43m(\u001b[49m\u001b[43mrequest\u001b[49m\u001b[43m,\u001b[49m\u001b[43m \u001b[49m\u001b[43mtype_\u001b[49m\u001b[43m)\u001b[49m\n",
      "\u001b[36mFile \u001b[39m\u001b[32mc:\\Users\\Admin\\OneDrive\\Desktop\\hak\\.venv\\Lib\\site-packages\\qdrant_client\\http\\api_client.py:125\u001b[39m, in \u001b[36mApiClient.send\u001b[39m\u001b[34m(self, request, type_)\u001b[39m\n\u001b[32m    123\u001b[39m     \u001b[38;5;28;01mexcept\u001b[39;00m ValidationError \u001b[38;5;28;01mas\u001b[39;00m e:\n\u001b[32m    124\u001b[39m         \u001b[38;5;28;01mraise\u001b[39;00m ResponseHandlingException(e)\n\u001b[32m--> \u001b[39m\u001b[32m125\u001b[39m \u001b[38;5;28;01mraise\u001b[39;00m UnexpectedResponse.for_response(response)\n",
      "\u001b[31mUnexpectedResponse\u001b[39m: Unexpected Response: 400 (Bad Request)\nRaw response content:\nb'{\"status\":{\"error\":\"Bad request: Index required but not found for \\\\\"ticker\\\\\" of one of the following types: [keyword]. Help: Create an index for this key or use a different filter.\"},\"time\":5.55e-6}'"
     ]
    }
   ],
   "source": [
    "def get_points_by_ticker(collection_name: str, target_ticker: str, limit: int = 10):\n",
    "    \"\"\"\n",
    "    Возвращает все записи, содержащие указанный тикер\n",
    "    \n",
    "    :param collection_name: Имя коллекции\n",
    "    :param target_ticker: Тикер для поиска\n",
    "    :param limit: Максимальное количество результатов\n",
    "    :return: Список найденных точек\n",
    "    \"\"\"\n",
    "    response = qdrant_client.scroll(\n",
    "        collection_name=collection_name,\n",
    "        scroll_filter=models.Filter(\n",
    "            must=[\n",
    "                models.FieldCondition(\n",
    "                    key=\"ticker\",\n",
    "                    match=models.MatchValue(value=target_ticker)\n",
    "                )\n",
    "            ]\n",
    "        ),\n",
    "        limit=limit,\n",
    "        with_payload=True,\n",
    "        with_vectors=False\n",
    "    )\n",
    "    \n",
    "    return response[0]  # Возвращаем только точки\n",
    "\n",
    "# Пример использования:\n",
    "aapl_points = get_points_by_ticker(\"input_hak\", \"AAPL\", 5)\n",
    "for point in aapl_points:\n",
    "    print(f\"ID: {point.id}, Текст: {point.payload.get('summary_text')}\")\n"
   ]
  },
  {
   "cell_type": "code",
   "execution_count": 10,
   "id": "71987bec",
   "metadata": {},
   "outputs": [
    {
     "data": {
      "text/html": [
       "<div>\n",
       "<style scoped>\n",
       "    .dataframe tbody tr th:only-of-type {\n",
       "        vertical-align: middle;\n",
       "    }\n",
       "\n",
       "    .dataframe tbody tr th {\n",
       "        vertical-align: top;\n",
       "    }\n",
       "\n",
       "    .dataframe thead th {\n",
       "        text-align: right;\n",
       "    }\n",
       "</style>\n",
       "<table border=\"1\" class=\"dataframe\">\n",
       "  <thead>\n",
       "    <tr style=\"text-align: right;\">\n",
       "      <th></th>\n",
       "      <th>text</th>\n",
       "      <th>title</th>\n",
       "      <th>url</th>\n",
       "      <th>date</th>\n",
       "      <th>source</th>\n",
       "      <th>summary_text</th>\n",
       "      <th>market_sentiment</th>\n",
       "      <th>probability</th>\n",
       "      <th>ticker</th>\n",
       "    </tr>\n",
       "  </thead>\n",
       "  <tbody>\n",
       "  </tbody>\n",
       "</table>\n",
       "</div>"
      ],
      "text/plain": [
       "Empty DataFrame\n",
       "Columns: [text, title, url, date, source, summary_text, market_sentiment, probability, ticker]\n",
       "Index: []"
      ]
     },
     "execution_count": 10,
     "metadata": {},
     "output_type": "execute_result"
    }
   ],
   "source": [
    "df.iloc[i:i+10]"
   ]
  },
  {
   "cell_type": "code",
   "execution_count": 9,
   "id": "5a419e12",
   "metadata": {},
   "outputs": [
    {
     "data": {
      "text/plain": [
       "False"
      ]
     },
     "execution_count": 9,
     "metadata": {},
     "output_type": "execute_result"
    }
   ],
   "source": [
    "\n",
    "qdrant_client.delete_collection(\"input_hak\")  # Коллекция исчезнет безвозвратно"
   ]
  },
  {
   "cell_type": "code",
   "execution_count": 6,
   "id": "f08c105b",
   "metadata": {},
   "outputs": [],
   "source": [
    "process.get_data(df)"
   ]
  },
  {
   "cell_type": "code",
   "execution_count": 7,
   "id": "da861eb1",
   "metadata": {},
   "outputs": [
    {
     "data": {
      "text/html": [
       "<div>\n",
       "<style scoped>\n",
       "    .dataframe tbody tr th:only-of-type {\n",
       "        vertical-align: middle;\n",
       "    }\n",
       "\n",
       "    .dataframe tbody tr th {\n",
       "        vertical-align: top;\n",
       "    }\n",
       "\n",
       "    .dataframe thead th {\n",
       "        text-align: right;\n",
       "    }\n",
       "</style>\n",
       "<table border=\"1\" class=\"dataframe\">\n",
       "  <thead>\n",
       "    <tr style=\"text-align: right;\">\n",
       "      <th></th>\n",
       "      <th>text</th>\n",
       "      <th>title</th>\n",
       "      <th>url</th>\n",
       "      <th>date</th>\n",
       "      <th>source</th>\n",
       "    </tr>\n",
       "  </thead>\n",
       "  <tbody>\n",
       "    <tr>\n",
       "      <th>97</th>\n",
       "      <td>МОСКВА, 7 июня. /Корр. ТАСС Андрей Карташов/. ...</td>\n",
       "      <td>Тарпищев: в МОК многие были удивлены, узнав, ч...</td>\n",
       "      <td>https://tass.ru/sport/24165767</td>\n",
       "      <td>2025-06-07 09:34:14</td>\n",
       "      <td>TASS</td>\n",
       "    </tr>\n",
       "    <tr>\n",
       "      <th>98</th>\n",
       "      <td>КАЛИНИНГРАД, 7 июня. /ТАСС/. Расчеты комплексо...</td>\n",
       "      <td>Комплексы \"Бастион\" Балтфлота выполнили электр...</td>\n",
       "      <td>https://tass.ru/armiya-i-opk/24165761</td>\n",
       "      <td>2025-06-07 09:33:10</td>\n",
       "      <td>TASS</td>\n",
       "    </tr>\n",
       "    <tr>\n",
       "      <th>99</th>\n",
       "      <td>МОСКВА, 7 июня. /ТАСС/. Российские средства ПВ...</td>\n",
       "      <td>Над Белгородской областью уничтожили четыре ук...</td>\n",
       "      <td>https://tass.ru/armiya-i-opk/24165755</td>\n",
       "      <td>2025-06-07 09:28:45</td>\n",
       "      <td>TASS</td>\n",
       "    </tr>\n",
       "  </tbody>\n",
       "</table>\n",
       "</div>"
      ],
      "text/plain": [
       "                                                 text  \\\n",
       "97  МОСКВА, 7 июня. /Корр. ТАСС Андрей Карташов/. ...   \n",
       "98  КАЛИНИНГРАД, 7 июня. /ТАСС/. Расчеты комплексо...   \n",
       "99  МОСКВА, 7 июня. /ТАСС/. Российские средства ПВ...   \n",
       "\n",
       "                                                title  \\\n",
       "97  Тарпищев: в МОК многие были удивлены, узнав, ч...   \n",
       "98  Комплексы \"Бастион\" Балтфлота выполнили электр...   \n",
       "99  Над Белгородской областью уничтожили четыре ук...   \n",
       "\n",
       "                                      url                date source  \n",
       "97         https://tass.ru/sport/24165767 2025-06-07 09:34:14   TASS  \n",
       "98  https://tass.ru/armiya-i-opk/24165761 2025-06-07 09:33:10   TASS  \n",
       "99  https://tass.ru/armiya-i-opk/24165755 2025-06-07 09:28:45   TASS  "
      ]
     },
     "execution_count": 7,
     "metadata": {},
     "output_type": "execute_result"
    }
   ],
   "source": [
    "process.df"
   ]
  },
  {
   "cell_type": "code",
   "execution_count": null,
   "id": "c8c159ad",
   "metadata": {},
   "outputs": [],
   "source": [
    "def get_ticker_most_resonance(ticker: str, limit: int = 5) -> Resonances:\n",
    "    # Общий фильтр для обоих запросов\n",
    "    probability_filter = models.Filter(\n",
    "        must=[\n",
    "            models.FieldCondition(\n",
    "                key=\"probability\",\n",
    "                range=models.Range(gte=-1)\n",
    "        )\n",
    "    ])\n",
    "\n",
    "    # Запрос записей с наивысшим probability (DESC)\n",
    "    top_k_points_best = qdrant_client.scroll(\n",
    "        collection_name=\"input_hak\",\n",
    "        scroll_filter=probability_filter,\n",
    "        limit=limit,\n",
    "        order_by=models.OrderBy(\n",
    "            key=\"probability\",\n",
    "            direction=models.Direction.DESC\n",
    "        ),\n",
    "        with_payload=True,\n",
    "    )\n",
    "\n",
    "    # Запрос записей с наименьшим probability (ASC)\n",
    "    top_k_points_worst = qdrant_client.scroll(\n",
    "        collection_name=\"input_hak\",\n",
    "        scroll_filter=probability_filter,\n",
    "        limit=limit,\n",
    "        order_by=models.OrderBy(\n",
    "            key=\"probability\",\n",
    "            direction=models.Direction.ASC\n",
    "        ),\n",
    "        with_payload=True,\n",
    "    )\n",
    "\n",
    "    def create_resonance(point) -> Resonance:\n",
    "        payload = point.payload or {}\n",
    "        return Resonance(\n",
    "            text=payload.get(\"summary_text\", \"\"),\n",
    "            sentiment=payload.get(\"probability\", 0.0),\n",
    "            source=payload.get(\"source\", \"Unknown\"),\n",
    "            url=payload.get(\"url\", \"\")\n",
    "        )\n",
    "\n",
    "    # Обработка результатов (с проверкой на пустоту)\n",
    "    best_resonances = [create_resonance(point) for point in top_k_points_best[0]] if top_k_points_best[0] else []\n",
    "    worst_resonances = [create_resonance(point) for point in top_k_points_worst[0]] if top_k_points_worst[0] else []\n",
    "\n",
    "    return [best_resonances,worst_resonances]"
   ]
  },
  {
   "cell_type": "code",
   "execution_count": 29,
   "id": "9126c4d4",
   "metadata": {},
   "outputs": [],
   "source": [
    "import asyncio"
   ]
  },
  {
   "cell_type": "code",
   "execution_count": 34,
   "id": "8de990ca",
   "metadata": {},
   "outputs": [
    {
     "data": {
      "text/plain": [
       "([Resonance(text='Предприятие \"Решетнев\" (входит в Роскосмос) разработало новое терморегулирующее покрытие для спутников, которое увеличивает их срок службы и снижает массу радиаторов на 30-40 %. Новое покрытие основано на оптическом солнечном отражателе с добавленными слоями диэлектриков и полупроводника, что позволяет снизить коэффициент поглощения солнечного излучения. Технология прошла успешные лабораторные испытания.', sentiment=0.9, source='TASS', url='https://tass.ru/ekonomika/24166199'),\n",
       "  Resonance(text='В 2024 году внешний торговый оборот между Иркутской областью и Арменией увеличился в 2,8 раза за счет экспорта химической продукции. Губернатор Иркутской области отметил важность развития межрегионального сотрудничества, включая торговлю машиностроительной продукцией, металлами и изделиями из них, а также перспективы увеличения экспорта товаров с высокой добавленной стоимостью. Также рассматривается развитие туризма, в том числе через открытие прямого авиасообщения между регионами. В регионе проживает более 5 тысяч армян, и действуют соглашения о сотрудничестве между регионами и армянскими учреждениями.', sentiment=0.8, source='TASS', url='https://tass.ru/ekonomika/24165773'),\n",
       "  Resonance(text='Около 75% жителей Москвы считают город туристическим, что способствует развитию инфраструктуры и увеличению туристического потока, в том числе за счет отдыхающих из других регионов и стран. В 2024 году Москву посетили 26 миллионов человек, из них большинство — россияне, а также иностранцы из Китая, Индии и ОАЭ. Туризм положительно влияет на городские бюджеты и коммерческие сектора, такие как гостиничный бизнес и услуги. Проведение крупных мероприятий повышает загрузку гостиниц, достигающую 80-90% во время форумов и фестивалей. Рост туристического и делового потока способствует развитию отраслей, связанных с культурой, инновациями и бизнесом.', sentiment=0.8, source='TASS', url='https://tass.ru/obschestvo/24166155'),\n",
       "  Resonance(text='Объем выручки предприятий креативного сектора на Дальнем Востоке в 2024 году составил 55,5 млрд рублей, увеличившись на 58% по сравнению с 2021 годом. Основные регионы — Приморский край, Хабаровский край и Республика Саха, вместе обеспечивающие значительную часть выручки. В секторе работает около 21 тысячи хозяйствующих субъектов, большинство из которых — индивидуальные предприниматели, а средняя выручка на предприятие — 2,8 млн рублей в год. Важными направлениями являются видеоигры и народно-художественный промысел, демонстрирующие существенный рост, несмотря на небольшую долю креативных индустрий в общем объеме экономики региона. Рост креативных отраслей свидетельствует о потенциале региона для производства продукции с высокой добавленной стоимостью и развития сферы интеллектуальных услуг.', sentiment=0.8, source='TASS', url='https://tass.ru/ekonomika/24166763'),\n",
       "  Resonance(text='7 июня в Донецке после автоматического отключения восстановлено электроснабжение Калининского района. По информации «Донецких городских электрических сетей», все трансформаторные подстанции района снова запитаны. Ранее отключение повлияло на 600 абонентов, поскольку семь трансформаторных подстанций отключились автоматически. Восстановление электроснабжения прошло после проведения соответствующих работ.', sentiment=0.7, source='TASS', url='https://tass.ru/obschestvo/24166655')],\n",
       " [Resonance(text='Александр Радулов, обладатель Кубка Гагарина и самый ценный игрок плей-офф, рассматривает все предложения по поводу продолжения карьеры и не торопится с выбором клуба. Агент хоккеиста заявил, что Радулов не принял окончательного решения и оценивает различные варианты. В текущем сезоне он набрал 16 очков в 21 матче плей-офф за \"Локомотив\", который впервые выиграл Кубок Гагарина.', sentiment=-0.9, source='TASS', url='https://tass.ru/sport/24166775'),\n",
       "  Resonance(text='Следователи возбудили в Астраханской области уголовное дело по факту ДТП, в результате которого погибли трое сотрудников полиции. Авария произошла 6 июня на автодороге Р-215, когда водитель автомобиля \"Лада\" не справился с управлением, съехал на обочину и столкнулся с бензовозом. В результате ДТП погибли три полицейских, находившиеся в легковом автомобиле. Устанавливаются обстоятельства происшествия.', sentiment=-0.9, source='TASS', url='https://tass.ru/proisshestviya/24166633'),\n",
       "  Resonance(text='Криштиану Роналду практически исключил свое участие в предстоящем клубном чемпионате мира в США, несмотря на полученные приглашения. В октябре 2023 года он отметил необходимость учитывать долгосрочные перспективы и сообщил, что, скорее всего, не примет участие в турнире. В настоящее время ему 40 лет, он играет за клуб \"Аль-Наср\" в Саудовской Аравии по контракту до конца сезона-2024/25. Контекстом также является финальный матч сборной Португалии в Лиге наций против Испании.', sentiment=-0.9, source='TASS', url='https://tass.ru/sport/24166139'),\n",
       "  Resonance(text='Верховный суд Праги отклонил апелляцию России по вопросу юрисдикции чешских судов рассматривать спор о плате за аренду недвижимости в Чехии, вернув дело на повторное рассмотрение. Спор возник после отмены в 2020 году решений, разрешавших России безвозмездное пользование 40 объектами недвижимости, за что Чехия требует более 60 млн крон арендной платы. В ноябре 2023 года Чехия включила российское предприятие \"Госзагрансобственность\" в санкционный список, заморозив его имущество в стране.', sentiment=-0.8, source='TASS', url='https://tass.ru/mezhdunarodnaya-panorama/24166793'),\n",
       "  Resonance(text='Палестинское движение ХАМАС пригрозило убить израильского заложника, Матана Цангаукера, в случае окружения его содержания в секторе Газа израильскими военными. Представитель группировки заявил, что освобождение заложника невозможно, и ответственность за его смерть ляжет на Израиль. 7 июня ЦАХАЛ обнаружил в Газе останки заложника, похищенного 7 октября 2023 года, а также вывез еще двоих пленников.', sentiment=-0.8, source='TASS', url='https://tass.ru/mezhdunarodnaya-panorama/24166713')])"
      ]
     },
     "execution_count": 34,
     "metadata": {},
     "output_type": "execute_result"
    }
   ],
   "source": [
    "get_ticker_most_resonance('ASDASD')"
   ]
  },
  {
   "cell_type": "code",
   "execution_count": 14,
   "id": "92d76278",
   "metadata": {},
   "outputs": [],
   "source": [
    "class Resonances(BaseModel):\n",
    "    resonances: list[Resonance]"
   ]
  },
  {
   "cell_type": "code",
   "execution_count": 10,
   "id": "c6475ec6",
   "metadata": {},
   "outputs": [],
   "source": [
    "from pydantic import BaseModel\n",
    "from typing import List, Optional"
   ]
  },
  {
   "cell_type": "code",
   "execution_count": 32,
   "id": "c2f19fc1",
   "metadata": {},
   "outputs": [],
   "source": [
    "class Resonance(BaseModel):\n",
    "    text: str\n",
    "    sentiment: float\n",
    "    source: str\n",
    "    url: str"
   ]
  },
  {
   "cell_type": "code",
   "execution_count": null,
   "id": "f37ffcd8",
   "metadata": {},
   "outputs": [],
   "source": [
    "from qdrant_client import models\n",
    "from typing import List, Optional, Union\n",
    "from qdrant_client.models import PointStruct\n",
    "\n",
    "def get_points(\n",
    "    collection_name: str,\n",
    "    target_ticker: Optional[str] = None,\n",
    "    probability_sort: Optional[str] = None,\n",
    "    limit: int = 10\n",
    ") -> List[PointStruct]:\n",
    "    \"\"\"\n",
    "    Возвращает записи с возможностью фильтрации по тикеру и сортировки по probability\n",
    "    \n",
    "    :param collection_name: Имя коллекции\n",
    "    :param target_ticker: Тикер для поиска (если None - ищет все записи)\n",
    "    :param probability_sort: Направление сортировки (\"asc\"/\"desc\"), если None - без сортировки\n",
    "    :param limit: Максимальное количество результатов\n",
    "    :return: Список найденных точек\n",
    "    \"\"\"\n",
    "    # Формируем базовый фильтр\n",
    "    scroll_filter = None\n",
    "    if target_ticker:\n",
    "        scroll_filter = models.Filter(\n",
    "            must=[\n",
    "                models.FieldCondition(\n",
    "                    key=\"ticker\",\n",
    "                    match=models.MatchValue(value=target_ticker)\n",
    "                )\n",
    "            ]\n",
    "        )\n",
    "\n",
    "    # Если нужна сортировка по probability\n",
    "    order_by = None\n",
    "    if probability_sort:\n",
    "        order_by = models.OrderBy(\n",
    "            key=\"probability\",\n",
    "            direction=models.Direction.DESC if probability_sort == \"desc\" else models.Direction.ASC\n",
    "        )\n",
    "\n",
    "    try:\n",
    "        # Пытаемся получить данные с сортировкой через индекс\n",
    "        response = client.scroll(\n",
    "            collection_name=collection_name,\n",
    "            scroll_filter=scroll_filter,\n",
    "            limit=limit,\n",
    "            order_by=order_by,\n",
    "            with_payload=True,\n",
    "            with_vectors=False\n",
    "        )\n",
    "        return response[0]\n",
    "    \n",
    "    except Exception as e:\n",
    "        print(f\"Ошибка при выполнении запроса с сортировкой: {str(e)}\")\n",
    "        \n",
    "        # Если не получилось с сортировкой - получаем все и сортируем вручную\n",
    "        all_points = client.scroll(\n",
    "            collection_name=collection_name,\n",
    "            scroll_filter=scroll_filter,\n",
    "            limit=1000,  # Берем больше, чтобы потом отфильтровать\n",
    "            with_payload=True,\n",
    "            with_vectors=False\n",
    "        )[0]\n",
    "        \n",
    "        if probability_sort:\n",
    "            reverse_sort = probability_sort == \"desc\"\n",
    "            all_points = sorted(\n",
    "                all_points,\n",
    "                key=lambda x: x.payload.get(\"probability\", 0),\n",
    "                reverse=reverse_sort\n",
    "            )\n",
    "        \n",
    "        return all_points[:limit]\n",
    "\n",
    "# Примеры использования:\n",
    "# 1. Получить все записи для AAPL\n",
    "aapl_points = get_points(\"input_hak\", target_ticker=\"AAPL\", limit=5)\n",
    "\n",
    "# 2. Получить топ-5 записей с наивысшим probability (все тикеры)\n",
    "top_positive = get_points(\"input_hak\", probability_sort=\"desc\", limit=5)\n",
    "\n",
    "# 3. Получить топ-5 записей с наименьшим probability для TSLA\n",
    "top_negative_tsla = get_points(\"input_hak\", target_ticker=\"TSLA\", probability_sort=\"asc\", limit=5)"
   ]
  },
  {
   "cell_type": "code",
   "execution_count": null,
   "id": "53607bca",
   "metadata": {},
   "outputs": [],
   "source": [
    "from qdrant_client import QdrantClient, models\n",
    "from typing import Optional\n",
    "from function import *\n",
    "from config import *\n",
    "import openai  # Или другая LLM-библиотека\n",
    "\n",
    "def get_summary_by_ticker_sync(\n",
    "    client: QdrantClient,\n",
    "    ticker: str,\n",
    "    collection_name: str = \"input_hak\",\n",
    ") -> str:\n",
    "    \"\"\"\n",
    "    Улучшенная версия с интеграцией LLM\n",
    "    \n",
    "    :param client: Подключенный клиент Qdrant\n",
    "    :param ticker: Тикер для поиска\n",
    "    :param collection_name: Имя коллекции\n",
    "    :param use_llm: Флаг использования LLM\n",
    "    :param llm_api_key: API ключ для LLM\n",
    "    :return: Форматированная сводка\n",
    "    \"\"\"\n",
    "    # 1. Поиск по тикеру\n",
    "    ticker_points = client.scroll(\n",
    "        collection_name=collection_name,\n",
    "        scroll_filter=models.Filter(\n",
    "            must=[\n",
    "                models.FieldCondition(\n",
    "                    key=\"ticker\",\n",
    "                    match=models.MatchValue(value=ticker)\n",
    "            )\n",
    "        ],\n",
    "        limit=10,\n",
    "        with_payload=True,\n",
    "    ))[0]\n",
    "\n",
    "    if ticker_points:\n",
    "        positive_news = []\n",
    "        negative_news = []\n",
    "        \n",
    "        for point in ticker_points:\n",
    "            sentiment = point.payload.get(\"probability\", 0)\n",
    "            text = point.payload.get(\"summary_text\", \"\")\n",
    "            if not text:\n",
    "                continue\n",
    "                \n",
    "            if sentiment >= 0.6:\n",
    "                positive_news.append(text)\n",
    "            elif sentiment <= 0.4:\n",
    "                negative_news.append(text)\n",
    "\n",
    "        summary = f\"📊 Аналитическая сводка по {ticker}:\\n\"\n",
    "        \n",
    "        if positive_news:\n",
    "            summary += \"\\n🌈 Позитивные тенденции:\\n\"\n",
    "            positi_vtrend = 'Суммаризируй и сделай небольшие выводы по следующим новостям: '+' Новость: '.join(positive_news[:5])\n",
    "            summary += get_response(positi_vtrend,client_params)\n",
    "        \n",
    "        if negative_news:\n",
    "            summary += \"\\n🌧️ Риски и угрозы:\\n\"\n",
    "            negativ_trend = 'Суммаризируй и сделай небольшие выводы по следующим новостям: '+' Новость: '.join(positive_news[:5])\n",
    "            summary += get_response(negativ_trend, client_params)\n",
    "        return summary\n",
    "\n",
    "    # 2. Общий топ если тикер не найден\n",
    "    top_positive = client.scroll(\n",
    "        collection_name=collection_name,\n",
    "        order_by=models.OrderBy(\n",
    "            key=\"probability\",\n",
    "            direction=models.Direction.DESC\n",
    "        ),\n",
    "        limit=5,\n",
    "        with_payload=True,\n",
    "    )[0]\n",
    "\n",
    "    top_negative = client.scroll(\n",
    "        collection_name=collection_name,\n",
    "        order_by=models.OrderBy(\n",
    "            key=\"probability\",\n",
    "            direction=models.Direction.ASC\n",
    "        ),\n",
    "        limit=5,\n",
    "        with_payload=True,\n",
    "    )[0]\n",
    "\n",
    "    summary = f\"🔍 Данных по {ticker} не найдено. Общий рыночный обзор:\\n\"\n",
    "    \n",
    "    if top_positive:\n",
    "        pos_news = 'Суммаризируй и сделай небольшие выводы по следующим новостям: '+ 'Новости: '.join([p.payload.get(\"summary_text\") for p in top_positive if p.payload.get(\"summary_text\")])\n",
    "        summary += \"\\n📈 Лучшие новости рынка:\\n\"\n",
    "        summary += get_response(pos_news, client_params) \n",
    "    \n",
    "    if top_negative:\n",
    "        neg_news = 'Суммаризируй и сделай небольшие выводы по следующим новостям: '+ 'Новости: '.join([p.payload.get(\"summary_text\") for p in top_negative if p.payload.get(\"summary_text\")])\n",
    "        summary += \"\\n📉 Критические события:\\n\"\n",
    "        summary += get_response(neg_news,client_params)\n",
    "    \n",
    "    return summary"
   ]
  },
  {
   "cell_type": "code",
   "execution_count": null,
   "id": "07b2520c",
   "metadata": {},
   "outputs": [],
   "source": []
  },
  {
   "cell_type": "code",
   "execution_count": null,
   "id": "902deb88",
   "metadata": {},
   "outputs": [],
   "source": []
  }
 ],
 "metadata": {
  "kernelspec": {
   "display_name": ".venv",
   "language": "python",
   "name": "python3"
  },
  "language_info": {
   "codemirror_mode": {
    "name": "ipython",
    "version": 3
   },
   "file_extension": ".py",
   "mimetype": "text/x-python",
   "name": "python",
   "nbconvert_exporter": "python",
   "pygments_lexer": "ipython3",
   "version": "3.11.11"
  }
 },
 "nbformat": 4,
 "nbformat_minor": 5
}
